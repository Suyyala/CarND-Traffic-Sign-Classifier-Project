{
 "cells": [
  {
   "cell_type": "markdown",
   "metadata": {},
   "source": [
    "# Self-Driving Car Engineer Nanodegree\n",
    "\n",
    "## Deep Learning\n",
    "\n",
    "## Project: Build a Traffic Sign Recognition Classifier\n",
    "\n",
    "In this notebook, a template is provided for you to implement your functionality in stages which is required to successfully complete this project. If additional code is required that cannot be included in the notebook, be sure that the Python code is successfully imported and included in your submission, if necessary. Sections that begin with **'Implementation'** in the header indicate where you should begin your implementation for your project. Note that some sections of implementation are optional, and will be marked with **'Optional'** in the header.\n",
    "\n",
    "In addition to implementing code, there will be questions that you must answer which relate to the project and your implementation. Each section where you will answer a question is preceded by a **'Question'** header. Carefully read each question and provide thorough answers in the following text boxes that begin with **'Answer:'**. Your project submission will be evaluated based on your answers to each of the questions and the implementation you provide.\n",
    "\n",
    ">**Note:** Code and Markdown cells can be executed using the **Shift + Enter** keyboard shortcut. In addition, Markdown cells can be edited by typically double-clicking the cell to enter edit mode."
   ]
  },
  {
   "cell_type": "markdown",
   "metadata": {},
   "source": [
    "---\n",
    "## Step 0: Load The Data"
   ]
  },
  {
   "cell_type": "code",
   "execution_count": 1,
   "metadata": {
    "collapsed": false
   },
   "outputs": [],
   "source": [
    "# Load pickled data\n",
    "import pickle\n",
    "\n",
    "# TODO: Fill this in based on where you saved the training and testing data\n",
    "\n",
    "training_file = 'train.p'\n",
    "testing_file = 'test.p'\n",
    "\n",
    "with open(training_file, mode='rb') as f:\n",
    "    train = pickle.load(f)\n",
    "with open(testing_file, mode='rb') as f:\n",
    "    test = pickle.load(f)\n",
    "    \n",
    "X_train, y_train = train['features'], train['labels']\n",
    "X_test, y_test = test['features'], test['labels']"
   ]
  },
  {
   "cell_type": "markdown",
   "metadata": {},
   "source": [
    "---\n",
    "\n",
    "## Step 1: Dataset Summary & Exploration\n",
    "\n",
    "The pickled data is a dictionary with 4 key/value pairs:\n",
    "\n",
    "- `'features'` is a 4D array containing raw pixel data of the traffic sign images, (num examples, width, height, channels).\n",
    "- `'labels'` is a 1D array containing the label/class id of the traffic sign. The file `signnames.csv` contains id -> name mappings for each id.\n",
    "- `'sizes'` is a list containing tuples, (width, height) representing the the original width and height the image.\n",
    "- `'coords'` is a list containing tuples, (x1, y1, x2, y2) representing coordinates of a bounding box around the sign in the image. **THESE COORDINATES ASSUME THE ORIGINAL IMAGE. THE PICKLED DATA CONTAINS RESIZED VERSIONS (32 by 32) OF THESE IMAGES**\n",
    "\n",
    "Complete the basic data summary below."
   ]
  },
  {
   "cell_type": "code",
   "execution_count": 2,
   "metadata": {
    "collapsed": false
   },
   "outputs": [
    {
     "name": "stdout",
     "output_type": "stream",
     "text": [
      "Number of training examples = 39209\n",
      "Number of testing examples = 12630\n",
      "Image data shape = (32, 32, 3)\n",
      "Number of classes = 43\n"
     ]
    }
   ],
   "source": [
    "### Replace each question mark with the appropriate value.\n",
    "import numpy as np\n",
    "\n",
    "# TODO: Number of training examples\n",
    "n_train = len(X_train)\n",
    "\n",
    "# TODO: Number of testing examples.\n",
    "n_test = len(X_test)\n",
    "\n",
    "# TODO: What's the shape of an traffic sign image?\n",
    "image_shape = np.shape(X_train[0])\n",
    "\n",
    "# TODO: How many unique classes/labels there are in the dataset.\n",
    "n_classes = len(set(y_train))\n",
    "\n",
    "print(\"Number of training examples =\", n_train)\n",
    "print(\"Number of testing examples =\", n_test)\n",
    "print(\"Image data shape =\", image_shape)\n",
    "print(\"Number of classes =\", n_classes)"
   ]
  },
  {
   "cell_type": "markdown",
   "metadata": {},
   "source": [
    "Visualize the German Traffic Signs Dataset using the pickled file(s). This is open ended, suggestions include: plotting traffic sign images, plotting the count of each sign, etc.\n",
    "\n",
    "The [Matplotlib](http://matplotlib.org/) [examples](http://matplotlib.org/examples/index.html) and [gallery](http://matplotlib.org/gallery.html) pages are a great resource for doing visualizations in Python.\n",
    "\n",
    "**NOTE:** It's recommended you start with something simple first. If you wish to do more, come back to it after you've completed the rest of the sections."
   ]
  },
  {
   "cell_type": "code",
   "execution_count": 3,
   "metadata": {
    "collapsed": true
   },
   "outputs": [],
   "source": [
    "### Data exploration visualization goes here.\n",
    "### Feel free to use as many code cells as needed.\n",
    "import matplotlib.pyplot as plt\n",
    "# Visualizations will be shown in the notebook.\n",
    "%matplotlib inline"
   ]
  },
  {
   "cell_type": "markdown",
   "metadata": {},
   "source": [
    "----\n",
    "\n",
    "## Step 2: Design and Test a Model Architecture\n",
    "\n",
    "Design and implement a deep learning model that learns to recognize traffic signs. Train and test your model on the [German Traffic Sign Dataset](http://benchmark.ini.rub.de/?section=gtsrb&subsection=dataset).\n",
    "\n",
    "There are various aspects to consider when thinking about this problem:\n",
    "\n",
    "- Neural network architecture\n",
    "- Play around preprocessing techniques (normalization, rgb to grayscale, etc)\n",
    "- Number of examples per label (some have more than others).\n",
    "- Generate fake data.\n",
    "\n",
    "Here is an example of a [published baseline model on this problem](http://yann.lecun.com/exdb/publis/pdf/sermanet-ijcnn-11.pdf). It's not required to be familiar with the approach used in the paper but, it's good practice to try to read papers like these.\n",
    "\n",
    "**NOTE:** The LeNet-5 implementation shown in the [classroom](https://classroom.udacity.com/nanodegrees/nd013/parts/fbf77062-5703-404e-b60c-95b78b2f3f9e/modules/6df7ae49-c61c-4bb2-a23e-6527e69209ec/lessons/601ae704-1035-4287-8b11-e2c2716217ad/concepts/d4aca031-508f-4e0b-b493-e7b706120f81) at the end of the CNN lesson is a solid starting point. You'll have to change the number of classes and possibly the preprocessing, but aside from that it's plug and play!"
   ]
  },
  {
   "cell_type": "markdown",
   "metadata": {},
   "source": [
    "### Implementation\n",
    "\n",
    "Use the code cell (or multiple code cells, if necessary) to implement the first step of your project. Once you have completed your implementation and are satisfied with the results, be sure to thoroughly answer the questions that follow."
   ]
  },
  {
   "cell_type": "code",
   "execution_count": 4,
   "metadata": {
    "collapsed": false
   },
   "outputs": [],
   "source": [
    "### Preprocess the data here.\n",
    "### Feel free to use as many code cells as needed.\n",
    "from sklearn.utils import shuffle\n",
    "\n",
    "\n",
    "X_train, y_train = shuffle(X_train, y_train)"
   ]
  },
  {
   "cell_type": "markdown",
   "metadata": {},
   "source": [
    "### Question 1 \n",
    "\n",
    "_Describe how you preprocessed the data. Why did you choose that technique?\n",
    "\n"
   ]
  },
  {
   "cell_type": "markdown",
   "metadata": {},
   "source": [
    "**Answer:**\n",
    "I have used sklearn to split the training data into train and validation tests.\n",
    "I need way to keep test data seperate during training, so not influencing my model during performance evaluvation. However, I still need way to validate during the train. One common approach is to split the traiing data itself to accomdation the validation set. This is exactly what i have followed.\n"
   ]
  },
  {
   "cell_type": "code",
   "execution_count": 5,
   "metadata": {
    "collapsed": false
   },
   "outputs": [
    {
     "name": "stdout",
     "output_type": "stream",
     "text": [
      "31367 7842\n"
     ]
    },
    {
     "data": {
      "text/plain": [
       "<matplotlib.image.AxesImage at 0x7f8e6da81470>"
      ]
     },
     "execution_count": 5,
     "metadata": {},
     "output_type": "execute_result"
    },
    {
     "data": {
      "image/png": "[encoded data removed]",
      "text/plain": [
       "<matplotlib.figure.Figure at 0x7f8e8406d7f0>"
      ]
     },
     "metadata": {},
     "output_type": "display_data"
    }
   ],
   "source": [
    "### Generate additional data (OPTIONAL!)\n",
    "### and split the data into training/validation/testing sets here.\n",
    "### Feel free to use as many code cells as needeed\n",
    "from sklearn.model_selection import train_test_split\n",
    "import random\n",
    "\n",
    "X_train, X_validation, y_train, y_validation = train_test_split(X_train, y_train, test_size=0.2, random_state=42)\n",
    "print(len(X_train), len(X_validation))\n",
    "plt.figure(figsize=(1,1))\n",
    "plt.imshow(X_train[random.randint(0, len(X_train))].squeeze())\n"
   ]
  },
  {
   "cell_type": "markdown",
   "metadata": {},
   "source": [
    "### Question 2\n",
    "\n",
    "_Describe how you set up the training, validation and testing data for your model. **Optional**: If you generated additional data, how did you generate the data? Why did you generate the data? What are the differences in the new dataset (with generated data) from the original dataset?_"
   ]
  },
  {
   "cell_type": "markdown",
   "metadata": {},
   "source": [
    "**Answer:**\n",
    "I have shuffled original training data for model to be independent of ordering of the data. As described above split the train data into train and validation. Validation is used during the training phase to validate the accuracy of the model. And I have used test data after fully satisfied with training to validate the accuracy."
   ]
  },
  {
   "cell_type": "code",
   "execution_count": 6,
   "metadata": {
    "collapsed": false
   },
   "outputs": [],
   "source": [
    "### Define your architecture here.\n",
    "### Feel free to use as many code cells as needed.\n",
    "\n",
    "from tensorflow.contrib.layers import flatten\n",
    "import tensorflow as tf\n",
    "import math\n",
    "\n",
    "\n",
    "\n",
    "def LeNet(x, dropout):    \n",
    "    # Arguments used for tf.truncated_normal, randomly defines variables for the weights and biases for each layer\n",
    "    mu = 0\n",
    "    sigma = 0.1\n",
    "    pkeep = dropout\n",
    "    \n",
    "    layer1_conv_W = tf.Variable(tf.truncated_normal(shape=(5, 5, 3, 6), mean = mu, stddev = sigma))\n",
    "    layer1_conv_b = tf.Variable(tf.zeros(6))\n",
    "    \n",
    "    # TODO: Layer 1: Convolutional. Input = 32x32x3. Output = 28x28x6.\n",
    "    layer1_conv = tf.nn.conv2d(x, layer1_conv_W, strides=[1, 1, 1, 1], padding='VALID') + layer1_conv_b\n",
    "\n",
    "    # TODO: Activation.\n",
    "    layer1_conv = tf.nn.relu(layer1_conv)\n",
    "    layer1_conv = tf.nn.dropout(layer1_conv, pkeep)\n",
    "\n",
    "    # TODO: Pooling. Input = 28x28x6. Output = 14x14x6.\n",
    "    layer1_conv = tf.nn.max_pool(layer1_conv, ksize=[1, 2, 2, 1], strides=[1,2,2,1], padding='VALID')\n",
    "\n",
    "    # TODO: Layer 2: Convolutional. Output = 10x10x16.\n",
    "    \n",
    "    layer2_conv_W = tf.Variable(tf.truncated_normal(shape=(5, 5, 6, 16), mean = mu, stddev = sigma))\n",
    "    layer2_conv_b = tf.Variable(tf.zeros(16))\n",
    "    layer2_conv = tf.nn.conv2d(layer1_conv, layer2_conv_W, strides=[1, 1, 1, 1], padding='VALID') + layer2_conv_b\n",
    "    \n",
    "    # TODO: Activation.\n",
    "    layer2_conv = tf.nn.relu(layer2_conv)\n",
    "    layer2_conv = tf.nn.dropout(layer2_conv, pkeep)\n",
    "\n",
    "    # TODO: Pooling. Input = 10x10x16. Output = 5x5x16.\n",
    "    layer2_conv = tf.nn.max_pool(layer2_conv, ksize=[1, 2, 2, 1], strides=[1,2,2,1], padding='VALID')\n",
    "    \n",
    "\n",
    "    # TODO: Flatten. Input = 5x5x16. Output = 400.\n",
    "    layer2_conv = flatten(layer2_conv)\n",
    "    \n",
    "    # TODO: Layer 3: Fully Connected. Input = 400. Output = 120.\n",
    "    layer3_W = tf.Variable(tf.truncated_normal(shape=(400, 120), mean = mu, stddev = sigma))\n",
    "    layer3_b = tf.Variable(tf.zeros(120))\n",
    "    layer3_fcnn = tf.matmul(layer2_conv, layer3_W ) + layer3_b\n",
    "    \n",
    "    # TODO: Activation.\n",
    "    layer3_fcnn = tf.nn.relu(layer3_fcnn)\n",
    "    layer3_fcnn = tf.nn.dropout(layer3_fcnn, pkeep)\n",
    "\n",
    "    # TODO: Layer 4: Fully Connected. Input = 120. Output = 84.\n",
    "    layer4_W = tf.Variable(tf.truncated_normal(shape=(120, 84), mean = mu, stddev = sigma))\n",
    "    layer4_b = tf.Variable(tf.zeros(84))\n",
    "    layer4_fcnn = tf.matmul(layer3_fcnn, layer4_W ) +  layer4_b \n",
    "    \n",
    "    # TODO: Activation.\n",
    "    layer4_fcnn = tf.nn.relu(layer4_fcnn)\n",
    "    layer4_fcnn = tf.nn.dropout(layer4_fcnn, pkeep)\n",
    "\n",
    "    # TODO: Layer 5: Fully Connected. Input = 84. Output = 10.\n",
    "    layer5_W = tf.Variable(tf.truncated_normal(shape=(84, 43), mean = mu, stddev = sigma))\n",
    "    layer5_b = tf.Variable(tf.zeros(43))\n",
    "    logits = tf.matmul(layer4_fcnn, layer5_W ) + layer5_b \n",
    "    \n",
    "    return logits\n",
    "\n",
    "\n",
    "def LeNet_exp(x, dropout):    \n",
    "    # Arguments used for tf.truncated_normal, randomly defines variables for the weights and biases for each layer\n",
    "    mu = 0\n",
    "    sigma = 0.1\n",
    "    layer_input = x\n",
    "    layer1_conv = None\n",
    "    n = 32\n",
    "    channels = 3\n",
    "    depth = 16\n",
    "    pkeep = dropout\n",
    "    \n",
    "    while n>=5:\n",
    "        \n",
    "        layer1_conv_W = tf.Variable(tf.truncated_normal(shape=(5, 5, channels, depth), mean = mu, stddev = sigma))\n",
    "        layer1_conv_b = tf.Variable(tf.zeros(depth))\n",
    "    \n",
    "        # TODO: Layer 1: Convolutional. Input = 32x32x3. Output = 28x28x6.\n",
    "        layer1_conv = tf.nn.conv2d(layer_input, layer1_conv_W, strides=[1, 1, 1, 1], padding='VALID') + layer1_conv_b\n",
    "\n",
    "        # TODO: Activation.\n",
    "        layer1_conv = tf.nn.relu(layer1_conv)\n",
    "        layer1_conv = tf.nn.dropout(layer1_conv, pkeep)\n",
    "        layer_input = layer1_conv\n",
    "        n = n-5 +1\n",
    "        channels = 16\n",
    "        depth = 16\n",
    "        print(np.shape(layer1_conv))\n",
    "\n",
    "\n",
    "    # TODO: Flatten. Input = 5x5x16. Output = 400.\n",
    "    layer2_conv = flatten(layer1_conv)\n",
    "    n = 256\n",
    "    out = n-32\n",
    "    print(n, out)\n",
    "    \n",
    "    while n > 84:\n",
    "        # TODO: Layer 3: Fully Connected. Input = 400. Output = 120.\n",
    "        layer3_W = tf.Variable(tf.truncated_normal(shape=(n, out), mean = mu, stddev = sigma))\n",
    "        layer3_b = tf.Variable(tf.zeros(out))\n",
    "        layer3_fcnn = tf.matmul(layer2_conv, layer3_W ) + layer3_b\n",
    "    \n",
    "        # TODO: Activation.\n",
    "        layer3_fcnn = tf.nn.relu(layer3_fcnn)\n",
    "        layer3_fcnn = tf.nn.dropout(layer3_fcnn, pkeep)\n",
    "        layer2_conv = layer3_fcnn\n",
    "        n = out\n",
    "        out = n-32\n",
    "        print(n, out)\n",
    "        \n",
    "\n",
    "    # TODO: Layer 5: Fully Connected. Input = 84. Output = 10.\n",
    "    layer5_W = tf.Variable(tf.truncated_normal(shape=(n, 43), mean = mu, stddev = sigma))\n",
    "    layer5_b = tf.Variable(tf.zeros(43))\n",
    "    logits = tf.matmul(layer2_conv, layer5_W ) + layer5_b \n",
    "    \n",
    "    return logits\n",
    "\n"
   ]
  },
  {
   "cell_type": "markdown",
   "metadata": {},
   "source": [
    "### Question 3\n",
    "\n",
    "_What does your final architecture look like? (Type of model, layers, sizes, connectivity, etc.)  For reference on how to build a deep neural network using TensorFlow, see [Deep Neural Network in TensorFlow\n",
    "](https://classroom.udacity.com/nanodegrees/nd013/parts/fbf77062-5703-404e-b60c-95b78b2f3f9e/modules/6df7ae49-c61c-4bb2-a23e-6527e69209ec/lessons/b516a270-8600-4f93-a0a3-20dfeabe5da6/concepts/83a3a2a2-a9bd-4b7b-95b0-eb924ab14432) from the classroom._\n"
   ]
  },
  {
   "cell_type": "markdown",
   "metadata": {},
   "source": [
    "**Answer:**\n",
    "\n",
    "I have followed LeNet() architecture as starting point. I have used total of 5 layes including 3 fully conneccted layers and 2 convolution layers.\n",
    "\n",
    "The input of the moodel accepts 32x32x3 rgb image data and generates logits classifying into 43 different categories.\n",
    "\n",
    "*Layer 1: Convolutional. Input = 32x32x3. Output = 28x28x6. Activation: Relu, Pooling: Maxpool output: 14x14x6*\n",
    "\n",
    "*Layer 2: Convolutional. Input = 14x14x6 Output = 10x10x16. Activation: Relu, Pooling: Maxpool output: 5x5x16*\n",
    "\n",
    "*Layer 3: Fully Connected. Input = 400. Output = 120*\n",
    "\n",
    "*Layer 4: Fully Connected. Input = 120. Output = 84*\n",
    "\n",
    "*Layer 5: Fully Connected. Input = 84. Output = 43*\n",
    "\n",
    "Further improvements:\n",
    "\n",
    "*Added dropout regularization*\n",
    "\n",
    "With above architecture i have validation accuracy about .956.\n",
    "\n",
    "---\n",
    "\n",
    "Next step, I have modified LeNet to LeNet_exp() with extra convolution and fully connected layers removing the max pooling. Added dropout regularization with rate of 4% dropout. I have results varying from .96 to .978 in multiple runs.\n",
    "\n",
    "Convolution Layers size in each layer:\n",
    "layer1: (?, 32, 32, 3)   filter (5,5,3,16)\n",
    "\n",
    "layer2: (?, 28, 28, 16)  filter (5,5,16,16)\n",
    "\n",
    "layer3: (?, 24, 24, 16)  filter (5,5,16,16)\n",
    "\n",
    "layer4: (?, 20, 20, 16)  filter (5,5,16,16)\n",
    "\n",
    "layer5: (?, 16, 16, 16)  filter (5,5,16,16)\n",
    "\n",
    "layer6: (?, 12, 12, 16)  filter (5,5,16,16)\n",
    "\n",
    "layer7: (?, 8, 8, 16)\n",
    "\n",
    "layer8: (?, 4, 4, 16)\n",
    "\n",
    "fully connected layer1: Input: 256 out : 224\n",
    "\n",
    "fully connected layer2: Input: 224 out: 192\n",
    "\n",
    "fully connected layer3: Input: 192 out: 160\n",
    "\n",
    "fully connected layer4: Input: 160 out: 128\n",
    "\n",
    "fully connected layer5: 128 96\n",
    "\n",
    "fully connected layer6: 96 64\n",
    "\n",
    "fully connected layer7: 64 43\n",
    "\n"
   ]
  },
  {
   "cell_type": "code",
   "execution_count": 7,
   "metadata": {
    "collapsed": false
   },
   "outputs": [
    {
     "name": "stdout",
     "output_type": "stream",
     "text": [
      "128 30\n",
      "(?, 28, 28, 16)\n",
      "(?, 24, 24, 16)\n",
      "(?, 20, 20, 16)\n",
      "(?, 16, 16, 16)\n",
      "(?, 12, 12, 16)\n",
      "(?, 8, 8, 16)\n",
      "(?, 4, 4, 16)\n",
      "256 224\n",
      "224 192\n",
      "192 160\n",
      "160 128\n",
      "128 96\n",
      "96 64\n",
      "64 32\n",
      "Training...\n",
      "\n",
      "EPOCH 1 ...\n",
      "Validation Accuracy = 0.807\n",
      "\n",
      "EPOCH 2 ...\n",
      "Validation Accuracy = 0.880\n",
      "\n",
      "EPOCH 3 ...\n",
      "Validation Accuracy = 0.934\n",
      "\n",
      "EPOCH 4 ...\n",
      "Validation Accuracy = 0.946\n",
      "\n",
      "EPOCH 5 ...\n",
      "Validation Accuracy = 0.953\n",
      "\n",
      "EPOCH 6 ...\n",
      "Validation Accuracy = 0.945\n",
      "\n",
      "EPOCH 7 ...\n",
      "Validation Accuracy = 0.945\n",
      "\n",
      "EPOCH 8 ...\n",
      "Validation Accuracy = 0.950\n",
      "\n",
      "EPOCH 9 ...\n",
      "Validation Accuracy = 0.919\n",
      "\n",
      "EPOCH 10 ...\n",
      "Validation Accuracy = 0.956\n",
      "\n",
      "EPOCH 11 ...\n",
      "Validation Accuracy = 0.958\n",
      "\n",
      "EPOCH 12 ...\n",
      "Validation Accuracy = 0.963\n",
      "\n",
      "EPOCH 13 ...\n",
      "Validation Accuracy = 0.970\n",
      "\n",
      "EPOCH 14 ...\n",
      "Validation Accuracy = 0.966\n",
      "\n",
      "EPOCH 15 ...\n",
      "Validation Accuracy = 0.964\n",
      "\n",
      "EPOCH 16 ...\n",
      "Validation Accuracy = 0.970\n",
      "\n",
      "EPOCH 17 ...\n",
      "Validation Accuracy = 0.970\n",
      "\n",
      "EPOCH 18 ...\n",
      "Validation Accuracy = 0.974\n",
      "\n",
      "EPOCH 19 ...\n",
      "Validation Accuracy = 0.975\n",
      "\n",
      "EPOCH 20 ...\n",
      "Validation Accuracy = 0.973\n",
      "\n",
      "EPOCH 21 ...\n",
      "Validation Accuracy = 0.978\n",
      "\n",
      "EPOCH 22 ...\n",
      "Validation Accuracy = 0.965\n",
      "\n",
      "EPOCH 23 ...\n",
      "Validation Accuracy = 0.976\n",
      "\n",
      "EPOCH 24 ...\n",
      "Validation Accuracy = 0.974\n",
      "\n",
      "EPOCH 25 ...\n",
      "Validation Accuracy = 0.978\n",
      "\n",
      "EPOCH 26 ...\n",
      "Validation Accuracy = 0.970\n",
      "\n",
      "EPOCH 27 ...\n",
      "Validation Accuracy = 0.974\n",
      "\n",
      "EPOCH 28 ...\n",
      "Validation Accuracy = 0.976\n",
      "\n",
      "EPOCH 29 ...\n",
      "Validation Accuracy = 0.979\n",
      "\n",
      "EPOCH 30 ...\n",
      "Validation Accuracy = 0.968\n",
      "\n",
      "Model saved\n"
     ]
    }
   ],
   "source": [
    "### Train your model here.\n",
    "### Feel free to use as many code cells as needed.\n",
    "\n",
    "\n",
    "BATCH_SIZE = 128\n",
    "EPOCHS = 30\n",
    "print(BATCH_SIZE, EPOCHS)\n",
    "\n",
    "x = tf.placeholder(tf.float32, (None, 32, 32, 3))\n",
    "y = tf.placeholder(tf.int32, (None))\n",
    "one_hot_y = tf.one_hot(y, 43)\n",
    "dropout = tf.placeholder(tf.float32)\n",
    "# variable learning rate\n",
    "lr = tf.placeholder(tf.float32)\n",
    "\n",
    "rate = 0.001\n",
    "\n",
    " # learning rate decay\n",
    "max_learning_rate = 0.003\n",
    "min_learning_rate = 0.0001\n",
    "decay_speed = 2000.0 # 0.003-0.0001-2000=>0.9826 done in 5000 iterations\n",
    "\n",
    "\n",
    "\n",
    "logits = LeNet_exp(x, dropout=1)\n",
    "cross_entropy = tf.nn.softmax_cross_entropy_with_logits(logits=logits, labels=one_hot_y)\n",
    "loss_operation = tf.reduce_mean(cross_entropy)\n",
    "optimizer = tf.train.AdamOptimizer(learning_rate = lr)\n",
    "training_operation = optimizer.minimize(loss_operation)\n",
    "\n",
    "correct_prediction = tf.equal(tf.argmax(logits, 1), tf.argmax(one_hot_y, 1))\n",
    "accuracy_operation = tf.reduce_mean(tf.cast(correct_prediction, tf.float32))\n",
    "saver = tf.train.Saver()\n",
    "\n",
    "# Initializing the variables\n",
    "init = tf.global_variables_initializer()\n",
    "\n",
    "\n",
    "def evaluate(X_data, y_data):\n",
    "    num_examples = len(X_data)\n",
    "    total_accuracy = 0\n",
    "    sess = tf.get_default_session()\n",
    "    for offset in range(0, num_examples, BATCH_SIZE):\n",
    "        batch_x, batch_y = X_data[offset:offset+BATCH_SIZE], y_data[offset:offset+BATCH_SIZE]\n",
    "        accuracy = sess.run(accuracy_operation, feed_dict={x: batch_x, y: batch_y})\n",
    "        total_accuracy += (accuracy * len(batch_x))\n",
    "    return total_accuracy / num_examples\n",
    "\n",
    "with tf.Session() as sess:\n",
    "    sess.run(init)\n",
    "    num_examples = len(X_train)\n",
    "    \n",
    "    print(\"Training...\")\n",
    "    print()\n",
    "    for i in range(EPOCHS):\n",
    "        X_train, y_train = shuffle(X_train, y_train)\n",
    "        for offset in range(0, num_examples, BATCH_SIZE):\n",
    "            end = offset + BATCH_SIZE\n",
    "            batch_x, batch_y = X_train[offset:end], y_train[offset:end]\n",
    "            learning_rate = min_learning_rate + (max_learning_rate - min_learning_rate) * math.exp(-i/decay_speed)\n",
    "            learning_rate = rate\n",
    "            pkeep = 0.96\n",
    "            sess.run(training_operation, feed_dict={x: batch_x,  y: batch_y, lr: learning_rate, dropout: pkeep})\n",
    "            \n",
    "        validation_accuracy = evaluate(X_validation, y_validation)\n",
    "        print(\"EPOCH {} ...\".format(i+1))\n",
    "        print(\"Validation Accuracy = {:.3f}\".format(validation_accuracy))\n",
    "        print()\n",
    "        \n",
    "    saver.save(sess, './lenet')\n",
    "    print(\"Model saved\")\n"
   ]
  },
  {
   "cell_type": "markdown",
   "metadata": {},
   "source": [
    "### Question 4\n",
    "\n",
    "_How did you train your model? (Type of optimizer, batch size, epochs, hyperparameters, etc.)_\n"
   ]
  },
  {
   "cell_type": "markdown",
   "metadata": {},
   "source": [
    "**Answer:**\n",
    "\n",
    "I have following parameters for testing:\n",
    "\n",
    "EPOCH 30\n",
    "Type Of optimizer: Gradient discent AdamOptmizer with cross entropy\n",
    "For taining images are batched into 128 each, and with constant leaning rate of of 0.001.\n",
    "\n",
    "With above parameters, my model reported  Validation Accuracy ~ 0.978 with various runs.\n",
    "I have experimented with different batch sizes, with decay learning etc. But didn't result in any improved accuracy.\n",
    "\n",
    "\n",
    "\n"
   ]
  },
  {
   "cell_type": "markdown",
   "metadata": {},
   "source": [
    "### Question 5\n",
    "\n",
    "\n",
    "_What approach did you take in coming up with a solution to this problem? It may have been a process of trial and error, in which case, outline the steps you took to get to the final solution and why you chose those steps. Perhaps your solution involved an already well known implementation or architecture. In this case, discuss why you think this is suitable for the current problem._"
   ]
  },
  {
   "cell_type": "code",
   "execution_count": 8,
   "metadata": {
    "collapsed": false
   },
   "outputs": [
    {
     "name": "stdout",
     "output_type": "stream",
     "text": [
      "Model restored from file: ./lenet\n",
      "Test Accuracy = 0.910\n",
      "\n"
     ]
    }
   ],
   "source": [
    "with tf.Session() as sess:\n",
    "    # Initialize variables\n",
    "    sess.run(init)\n",
    "\n",
    "    # Restore model weights from previously saved model\n",
    "    saver.restore(sess, './lenet')\n",
    "    print(\"Model restored from file: %s\" % './lenet')\n",
    "\n",
    "    # Test prediction\n",
    "    test_accuracy = evaluate(X_test, y_test)\n",
    "    print(\"Test Accuracy = {:.3f}\".format(test_accuracy))\n",
    "    print()\n",
    "   "
   ]
  },
  {
   "cell_type": "markdown",
   "metadata": {},
   "source": [
    "**Answer:**\n",
    "\n",
    "1. Since the input data is image  which has spatial significance, so  convolution is the right approach to solve this problem. LeNet provides a starting ground for me to experiment. Results were upto  .95 to .96\n",
    "\n",
    "2. I have tried increasing convolution layers and fully connected layers  Added drop out (4%) for regularization to decrease the overfit of the layers. And removed max pooling improve the spatial data. Results were upto .97.\n",
    "\n",
    "3. I have tried various hyper parameters including decaying learnign rate and didn't get great results.\n",
    "\n",
    "4. Finally as shown as test accuracy is only about .9, compared to validation accuracy ~.976.  \n",
    "\n",
    "\n",
    "I think there is lot of room for improvement. Including trying different archiitecture using transfer learning etc.\n",
    "May be more data might help to solve the problem as i didn't see dramatic improvment with increased layers of neurons."
   ]
  },
  {
   "cell_type": "markdown",
   "metadata": {},
   "source": [
    "---\n",
    "\n",
    "## Step 3: Test a Model on New Images\n",
    "\n",
    "Take several pictures of traffic signs that you find on the web or around you (at least five), and run them through your classifier on your computer to produce example results. The classifier might not recognize some local signs but it could prove interesting nonetheless.\n",
    "\n",
    "You may find `signnames.csv` useful as it contains mappings from the class id (integer) to the actual sign name."
   ]
  },
  {
   "cell_type": "markdown",
   "metadata": {},
   "source": [
    "### Implementation\n",
    "\n",
    "Use the code cell (or multiple code cells, if necessary) to implement the first step of your project. Once you have completed your implementation and are satisfied with the results, be sure to thoroughly answer the questions that follow."
   ]
  },
  {
   "cell_type": "code",
   "execution_count": 49,
   "metadata": {
    "collapsed": false
   },
   "outputs": [
    {
     "name": "stdout",
     "output_type": "stream",
     "text": [
      "(144, 171, 3)\n",
      "(260, 307, 3)\n",
      "(373, 398, 3)\n",
      "(393, 279, 3)\n",
      "(262, 242, 3)\n",
      "(844, 911, 3)\n",
      "(172, 299, 3)\n",
      "(495, 338, 3)\n",
      "(199, 164, 3)\n",
      "(177, 221, 3)\n",
      "(901, 1089, 3)\n",
      "(451, 554, 3)\n",
      "(572, 601, 3)\n",
      "(322, 431, 3)\n",
      "(32, 32, 3)\n",
      "(32, 32, 3)\n",
      "(32, 32, 3)\n",
      "(32, 32, 3)\n",
      "(32, 32, 3)\n",
      "(32, 32, 3)\n",
      "(32, 32, 3)\n",
      "(32, 32, 3)\n",
      "(32, 32, 3)\n",
      "(32, 32, 3)\n",
      "(32, 32, 3)\n",
      "(32, 32, 3)\n",
      "(32, 32, 3)\n",
      "(32, 32, 3)\n"
     ]
    }
   ],
   "source": [
    "### Load the images and plot them here.\n",
    "### Feel free to use as many code cells as needed.\n",
    "\n",
    "from skimage import io as skimageio\n",
    "from skimage.transform import resize\n",
    "\n",
    "import glob\n",
    "import os\n",
    "\n",
    "def load_images():\n",
    "    images = []\n",
    "    for img in glob.glob(\"germany/*.png\"):\n",
    "        image = skimageio.imread(img)\n",
    "        print(np.shape(image))\n",
    "        image = resize(image, (32, 32))\n",
    "        images.append(image)\n",
    "    return images\n",
    "\n",
    "images = load_images()\n",
    "for image in images:\n",
    "#    plt.figure(figsize=(1,1))\n",
    "#    plt.imshow(image,)\n",
    "    print(image.shape)\n",
    "\n"
   ]
  },
  {
   "cell_type": "markdown",
   "metadata": {},
   "source": [
    "### Question 6\n",
    "\n",
    "_Choose five candidate images of traffic signs and provide them in the report. Are there any particular qualities of the image(s) that might make classification difficult? It could be helpful to plot the images in the notebook._\n",
    "\n"
   ]
  },
  {
   "cell_type": "code",
   "execution_count": 53,
   "metadata": {
    "collapsed": false
   },
   "outputs": [
    {
     "name": "stdout",
     "output_type": "stream",
     "text": [
      "Starting 2nd session...\n",
      "Model restored from file: ./lenet\n",
      "SoftMax probabilties...\n",
      "[[  1.00506970e-03   2.54641920e-02   2.63077021e-02   2.79427897e-02\n",
      "    3.30485441e-02   6.31034523e-02   3.77175864e-04   4.28119041e-02\n",
      "    1.61349047e-02   1.24743050e-02   6.69308892e-03   1.24432321e-03\n",
      "    2.36592125e-02   4.44830358e-02   1.30409859e-02   5.75758696e-01\n",
      "    1.03245862e-02   1.28764485e-03   3.53429117e-03   2.52757396e-04\n",
      "    6.69482490e-03   9.17858153e-04   1.65119418e-03   1.03208795e-03\n",
      "    5.59735869e-04   4.07613022e-03   3.45648476e-03   1.59071220e-04\n",
      "    7.57069152e-04   5.42773120e-03   1.17648533e-03   9.14134667e-04\n",
      "    7.07749918e-04   2.80459761e-03   4.04211134e-03   3.64982500e-03\n",
      "    2.55122734e-03   7.87747791e-04   4.98881890e-03   4.13412135e-03\n",
      "    1.21011995e-02   1.59061525e-03   6.87041599e-03]\n",
      " [  2.60260934e-03   3.36142592e-02   2.10833419e-02   1.37534559e-01\n",
      "    3.72037776e-02   1.44651070e-01   2.01997254e-02   3.17601375e-02\n",
      "    3.14847231e-02   2.16369759e-02   2.14401726e-02   5.63870836e-03\n",
      "    4.44754511e-02   5.30112460e-02   1.72958151e-02   1.14341445e-01\n",
      "    9.94380284e-03   3.09075159e-03   1.46243563e-02   2.19514756e-03\n",
      "    2.11061724e-02   2.92921625e-03   5.50709479e-03   4.25229128e-03\n",
      "    2.37473752e-03   1.76566765e-02   1.11774215e-02   9.99692711e-04\n",
      "    5.94140077e-03   1.84068251e-02   5.48718637e-03   6.10240456e-03\n",
      "    1.94126032e-02   4.57623927e-03   7.44932424e-03   1.04371365e-02\n",
      "    1.14427479e-02   2.88587809e-03   2.22668126e-02   7.88919255e-03\n",
      "    1.55862905e-02   1.23887006e-02   1.58960335e-02]\n",
      " [  1.02083164e-03   1.98831018e-02   2.17141863e-02   2.37087421e-02\n",
      "    2.73467358e-02   4.30689789e-02   2.98823172e-04   4.21713777e-02\n",
      "    1.57445502e-02   1.66500583e-02   6.98578125e-03   1.16578897e-03\n",
      "    2.26154383e-02   4.69912589e-02   1.43034197e-02   6.05842829e-01\n",
      "    1.03056300e-02   1.64066791e-03   3.08186701e-03   3.06422444e-04\n",
      "    6.13362668e-03   9.32448893e-04   1.69190904e-03   1.18721137e-03\n",
      "    5.34493010e-04   3.36543866e-03   3.08247539e-03   1.57296905e-04\n",
      "    8.06001946e-04   5.93363447e-03   1.25236821e-03   8.84420064e-04\n",
      "    6.96764037e-04   2.94789812e-03   5.19506168e-03   4.09660535e-03\n",
      "    2.86042341e-03   9.06085304e-04   5.32925082e-03   4.75352164e-03\n",
      "    1.42526375e-02   1.37526041e-03   6.77862391e-03]\n",
      " [  1.44538726e-03   2.25907192e-02   1.98189188e-02   5.30029312e-02\n",
      "    3.58595029e-02   7.76884034e-02   1.85737491e-03   3.64029780e-02\n",
      "    2.03683246e-02   2.60680541e-02   1.61711201e-02   3.35161504e-03\n",
      "    3.43258195e-02   6.03261366e-02   1.87311172e-02   4.07421082e-01\n",
      "    1.46311466e-02   2.95338547e-03   7.94331543e-03   1.05388882e-03\n",
      "    1.33337257e-02   2.46495870e-03   4.14800318e-03   3.17627727e-03\n",
      "    1.39413355e-03   1.02540767e-02   6.43815659e-03   5.39254048e-04\n",
      "    2.64459895e-03   1.30036259e-02   3.75704886e-03   2.47205747e-03\n",
      "    2.96046049e-03   4.69157286e-03   6.46281242e-03   6.37083780e-03\n",
      "    6.02554949e-03   1.43458310e-03   1.09571191e-02   6.49269717e-03\n",
      "    1.31223891e-02   3.67601914e-03   1.21687036e-02]\n",
      " [  1.50795688e-03   2.30711196e-02   2.85607316e-02   4.40638103e-02\n",
      "    3.36179547e-02   6.29747659e-02   7.94422638e-04   4.03505266e-02\n",
      "    2.05834620e-02   2.25499049e-02   1.19412970e-02   1.87415199e-03\n",
      "    2.54075527e-02   7.36741573e-02   1.89137086e-02   4.65866685e-01\n",
      "    1.15699843e-02   2.09255284e-03   4.84732632e-03   7.12475856e-04\n",
      "    8.92888475e-03   1.64513325e-03   2.51578679e-03   1.94351166e-03\n",
      "    1.08698418e-03   5.71420835e-03   5.07055782e-03   3.36792495e-04\n",
      "    1.83966476e-03   9.41472407e-03   2.20276206e-03   1.66691316e-03\n",
      "    1.38052786e-03   4.04902501e-03   5.78258000e-03   6.34702854e-03\n",
      "    5.32047078e-03   1.16982509e-03   8.13588407e-03   6.59525627e-03\n",
      "    1.33921206e-02   1.91492669e-03   8.57189298e-03]]\n",
      "TOPK values....\n",
      "TopKV2(values=array([[ 0.5757587 ,  0.06310345,  0.04448304,  0.0428119 ,  0.03304854],\n",
      "       [ 0.14465107,  0.13753456,  0.11434145,  0.05301125,  0.04447545],\n",
      "       [ 0.60584283,  0.04699126,  0.04306898,  0.04217138,  0.02734674],\n",
      "       [ 0.40742108,  0.0776884 ,  0.06032614,  0.05300293,  0.03640298],\n",
      "       [ 0.46586668,  0.07367416,  0.06297477,  0.04406381,  0.04035053]], dtype=float32), indices=array([[15,  5, 13,  7,  4],\n",
      "       [ 5,  3, 15, 13, 12],\n",
      "       [15, 13,  5,  7,  4],\n",
      "       [15,  5, 13,  3,  7],\n",
      "       [15, 13,  5,  3,  7]], dtype=int32))\n",
      "Max Value....\n",
      "[15  5 15 15 15]\n"
     ]
    },
    {
     "data": {
      "image/png": "[encoded data removed]",
      "text/plain": [
       "<matplotlib.figure.Figure at 0x7f8e60793080>"
      ]
     },
     "metadata": {},
     "output_type": "display_data"
    },
    {
     "data": {
      "image/png": "[encoded data removed]",
      "text/plain": [
       "<matplotlib.figure.Figure at 0x7f8ea2ac6358>"
      ]
     },
     "metadata": {},
     "output_type": "display_data"
    },
    {
     "data": {
      "image/png": "[encoded data removed]",
      "text/plain": [
       "<matplotlib.figure.Figure at 0x7f8ea526e860>"
      ]
     },
     "metadata": {},
     "output_type": "display_data"
    },
    {
     "data": {
      "image/png": "[encoded data removed]",
      "text/plain": [
       "<matplotlib.figure.Figure at 0x7f8e6078ab00>"
      ]
     },
     "metadata": {},
     "output_type": "display_data"
    },
    {
     "data": {
      "image/png": "[encoded data removed]",
      "text/plain": [
       "<matplotlib.figure.Figure at 0x7f8ea2b4bef0>"
      ]
     },
     "metadata": {},
     "output_type": "display_data"
    }
   ],
   "source": [
    "### Run the predictions here.\n",
    "### Feel free to use as many code cells as needed.\n",
    "\n",
    "# Running a new session\n",
    "print(\"Starting 2nd session...\")\n",
    "\n",
    "logits_max = tf.argmax(logits, 1)\n",
    "softmax = tf.nn.softmax(logits)\n",
    "\n",
    "with tf.Session() as sess:\n",
    "    # Initialize variables\n",
    "    sess.run(init)\n",
    "\n",
    "    # Restore model weights from previously saved model\n",
    "    saver.restore(sess, './lenet')\n",
    "    print(\"Model restored from file: %s\" % './lenet')\n",
    "\n",
    "    # Test prediction\n",
    "    pkeep = 1\n",
    "    #batch_x = images[:]\n",
    "    #print(np.shape(batch_x))\n",
    "    #print(np.shape(images))\n",
    "    batch_x = shuffle(images)\n",
    "    #preds = sess.run(logits, feed_dict={x: batch_x[:5] , dropout: pkeep})\n",
    "    for image in batch_x[:5]:\n",
    "        plt.figure(figsize=(1,1))\n",
    "        plt.imshow(image,)\n",
    "    print('SoftMax probabilties...')\n",
    "    #print(preds)\n",
    "    preds_pb = sess.run(softmax, feed_dict={x: batch_x[:5], dropout: pkeep})\n",
    "    print(preds_pb)\n",
    "    top_kv = sess.run(tf.nn.top_k(tf.constant(preds_pb), k=5))\n",
    "    print('TOPK values....')\n",
    "    print(top_kv)\n",
    "    pred_max = sess.run(logits_max, feed_dict={logits: preds_pb})\n",
    "    print('Max Value....')\n",
    "    print(pred_max)\n",
    "    \n",
    "        \n",
    "        \n",
    "    \n",
    "    "
   ]
  },
  {
   "cell_type": "markdown",
   "metadata": {},
   "source": [
    "**Answer:**\n",
    "\n",
    "I have chosen, german traffic signs from google street view available online and tested accuracy with  code. Although my model performed very well on test data with .91 accuracy it failed miserably here. Looking at max prob each prediction for 5 values images\n",
    "\n",
    "0.5, 0.14, 0.6, 0.4, 0.4 which clearly tells why model is uncertain.\n",
    "\n",
    "**I think  test captured images from steet view exhibit scale, rotation (angle, perspecitive) and resolution issues making  classifcation hard**\n",
    "\n",
    "\n",
    "I think model needs to be trained to be resilient to scale and rotation variance either probbaly adding normalization or with lot of data sets from multiple perspecitives.\n",
    "\n",
    "\n"
   ]
  },
  {
   "cell_type": "markdown",
   "metadata": {},
   "source": [
    "### Question 7\n",
    "\n",
    "_Is your model able to perform equally well on captured pictures when compared to testing on the dataset? The simplest way to do this check the accuracy of the predictions. For example, if the model predicted 1 out of 5 signs correctly, it's 20% accurate._\n",
    "\n",
    "_**NOTE:** You could check the accuracy manually by using `signnames.csv` (same directory). This file has a mapping from the class id (0-42) to the corresponding sign name. So, you could take the class id the model outputs, lookup the name in `signnames.csv` and see if it matches the sign from the image._\n"
   ]
  },
  {
   "cell_type": "code",
   "execution_count": 55,
   "metadata": {
    "collapsed": false
   },
   "outputs": [
    {
     "name": "stdout",
     "output_type": "stream",
     "text": [
      "    ClassId                                           SignName\n",
      "0         0                               Speed limit (20km/h)\n",
      "1         1                               Speed limit (30km/h)\n",
      "2         2                               Speed limit (50km/h)\n",
      "3         3                               Speed limit (60km/h)\n",
      "4         4                               Speed limit (70km/h)\n",
      "5         5                               Speed limit (80km/h)\n",
      "6         6                        End of speed limit (80km/h)\n",
      "7         7                              Speed limit (100km/h)\n",
      "8         8                              Speed limit (120km/h)\n",
      "9         9                                         No passing\n",
      "10       10       No passing for vehicles over 3.5 metric tons\n",
      "11       11              Right-of-way at the next intersection\n",
      "12       12                                      Priority road\n",
      "13       13                                              Yield\n",
      "14       14                                               Stop\n",
      "15       15                                        No vehicles\n",
      "16       16           Vehicles over 3.5 metric tons prohibited\n",
      "17       17                                           No entry\n",
      "18       18                                    General caution\n",
      "19       19                        Dangerous curve to the left\n",
      "20       20                       Dangerous curve to the right\n",
      "21       21                                       Double curve\n",
      "22       22                                         Bumpy road\n",
      "23       23                                      Slippery road\n",
      "24       24                          Road narrows on the right\n",
      "25       25                                          Road work\n",
      "26       26                                    Traffic signals\n",
      "27       27                                        Pedestrians\n",
      "28       28                                  Children crossing\n",
      "29       29                                  Bicycles crossing\n",
      "30       30                                 Beware of ice/snow\n",
      "31       31                              Wild animals crossing\n",
      "32       32                End of all speed and passing limits\n",
      "33       33                                   Turn right ahead\n",
      "34       34                                    Turn left ahead\n",
      "35       35                                         Ahead only\n",
      "36       36                               Go straight or right\n",
      "37       37                                Go straight or left\n",
      "38       38                                         Keep right\n",
      "39       39                                          Keep left\n",
      "40       40                               Roundabout mandatory\n",
      "41       41                                  End of no passing\n",
      "42       42  End of no passing by vehicles over 3.5 metric ...\n",
      "[15  5 15 15 15]\n",
      "    ClassId              SignName\n",
      "15       15           No vehicles\n",
      "5         5  Speed limit (80km/h)\n",
      "15       15           No vehicles\n",
      "15       15           No vehicles\n",
      "15       15           No vehicles\n"
     ]
    }
   ],
   "source": [
    "### Visualize the softmax probabilities here.\n",
    "### Feel free to use as many code cells as needed.\n",
    "import pandas as pd\n",
    "\n",
    "data = pd.read_csv('./signnames.csv', header=0)\n",
    "print(data)\n",
    "print(pred_max)\n",
    "print(data.ix[pred_max])"
   ]
  },
  {
   "cell_type": "markdown",
   "metadata": {},
   "source": [
    "**Answer:**\n",
    "\n",
    "Very bad results with accuracy of 0. Not sure why it perfomed so bad.\n"
   ]
  },
  {
   "cell_type": "markdown",
   "metadata": {},
   "source": [
    "### Question 8\n",
    "\n",
    "*Use the model's softmax probabilities to visualize the **certainty** of its predictions, [`tf.nn.top_k`](https://www.tensorflow.org/versions/r0.12/api_docs/python/nn.html#top_k) could prove helpful here. Which predictions is the model certain of? Uncertain? If the model was incorrect in its initial prediction, does the correct prediction appear in the top k? (k should be 5 at most)*\n",
    "\n",
    "`tf.nn.top_k` will return the values and indices (class ids) of the top k predictions. So if k=3, for each sign, it'll return the 3 largest probabilities (out of a possible 43) and the correspoding class ids.\n",
    "\n",
    "Take this numpy array as an example:\n",
    "\n",
    "```\n",
    "# (5, 6) array\n",
    "a = np.array([[ 0.24879643,  0.07032244,  0.12641572,  0.34763842,  0.07893497,\n",
    "         0.12789202],\n",
    "       [ 0.28086119,  0.27569815,  0.08594638,  0.0178669 ,  0.18063401,\n",
    "         0.15899337],\n",
    "       [ 0.26076848,  0.23664738,  0.08020603,  0.07001922,  0.1134371 ,\n",
    "         0.23892179],\n",
    "       [ 0.11943333,  0.29198961,  0.02605103,  0.26234032,  0.1351348 ,\n",
    "         0.16505091],\n",
    "       [ 0.09561176,  0.34396535,  0.0643941 ,  0.16240774,  0.24206137,\n",
    "         0.09155967]])\n",
    "```\n",
    "\n",
    "Running it through `sess.run(tf.nn.top_k(tf.constant(a), k=3))` produces:\n",
    "\n",
    "```\n",
    "TopKV2(values=array([[ 0.34763842,  0.24879643,  0.12789202],\n",
    "       [ 0.28086119,  0.27569815,  0.18063401],\n",
    "       [ 0.26076848,  0.23892179,  0.23664738],\n",
    "       [ 0.29198961,  0.26234032,  0.16505091],\n",
    "       [ 0.34396535,  0.24206137,  0.16240774]]), indices=array([[3, 0, 5],\n",
    "       [0, 1, 4],\n",
    "       [0, 5, 1],\n",
    "       [1, 3, 5],\n",
    "       [1, 4, 3]], dtype=int32))\n",
    "```\n",
    "\n",
    "Looking just at the first row we get `[ 0.34763842,  0.24879643,  0.12789202]`, you can confirm these are the 3 largest probabilities in `a`. You'll also notice `[3, 0, 5]` are the corresponding indices."
   ]
  },
  {
   "cell_type": "markdown",
   "metadata": {},
   "source": [
    "**Answer:**\n",
    "\n",
    "TopKV2(values=array([[ 0.5757587 ,  0.06310345,  0.04448304,  0.0428119 ,  0.03304854],\n",
    "\n",
    "       [ 0.14465107,  0.13753456,  0.11434145,  0.05301125,  0.04447545],\n",
    "       \n",
    "       [ 0.60584283,  0.04699126,  0.04306898,  0.04217138,  0.02734674],\n",
    "       \n",
    "       [ 0.40742108,  0.0776884 ,  0.06032614,  0.05300293,  0.03640298],\n",
    "       \n",
    "       [ 0.46586668,  0.07367416,  0.06297477,  0.04406381,  0.04035053]], dtype=float32)\n",
    "       \n",
    "First image, model 57% confidant that it is Class 15(No Vehicle) sign\n",
    "\n",
    "Second image, 14% confidance that it is speed limit (80).\n",
    "\n",
    "Third image, 60% confidnace that it is class 15, No Vehicle sign\n",
    "\n",
    "Fouth image, 40% confidance that it is class 15, No Vehicle sign\n",
    "\n",
    "5th image, 46% confidance that it is class 15, No vehicle sign.\n",
    "\n",
    "All the above results are actually wrong. I hink model needs to absorbe scale invariant either thru prepocessing or more data."
   ]
  },
  {
   "cell_type": "markdown",
   "metadata": {},
   "source": [
    "> **Note**: Once you have completed all of the code implementations and successfully answered each question above, you may finalize your work by exporting the iPython Notebook as an HTML document. You can do this by using the menu above and navigating to  \\n\",\n",
    "    \"**File -> Download as -> HTML (.html)**. Include the finished document along with this notebook as your submission."
   ]
  },
  {
   "cell_type": "code",
   "execution_count": null,
   "metadata": {
    "collapsed": true
   },
   "outputs": [],
   "source": []
  }
 ],
 "metadata": {
  "anaconda-cloud": {},
  "kernelspec": {
   "display_name": "Python 3",
   "language": "python",
   "name": "python3"
  },
  "language_info": {
   "codemirror_mode": {
    "name": "ipython",
    "version": 3
   },
   "file_extension": ".py",
   "mimetype": "text/x-python",
   "name": "python",
   "nbconvert_exporter": "python",
   "pygments_lexer": "ipython3",
   "version": "3.5.2"
  }
 },
 "nbformat": 4,
 "nbformat_minor": 1
}
