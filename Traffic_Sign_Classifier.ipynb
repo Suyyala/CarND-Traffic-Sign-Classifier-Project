{
 "cells": [
  {
   "cell_type": "markdown",
   "metadata": {},
   "source": [
    "# Self-Driving Car Engineer Nanodegree\n",
    "\n",
    "## Deep Learning\n",
    "\n",
    "## Project: Build a Traffic Sign Recognition Classifier\n",
    "\n",
    "In this notebook, a template is provided for you to implement your functionality in stages which is required to successfully complete this project. If additional code is required that cannot be included in the notebook, be sure that the Python code is successfully imported and included in your submission, if necessary. Sections that begin with **'Implementation'** in the header indicate where you should begin your implementation for your project. Note that some sections of implementation are optional, and will be marked with **'Optional'** in the header.\n",
    "\n",
    "In addition to implementing code, there will be questions that you must answer which relate to the project and your implementation. Each section where you will answer a question is preceded by a **'Question'** header. Carefully read each question and provide thorough answers in the following text boxes that begin with **'Answer:'**. Your project submission will be evaluated based on your answers to each of the questions and the implementation you provide.\n",
    "\n",
    ">**Note:** Code and Markdown cells can be executed using the **Shift + Enter** keyboard shortcut. In addition, Markdown cells can be edited by typically double-clicking the cell to enter edit mode."
   ]
  },
  {
   "cell_type": "markdown",
   "metadata": {},
   "source": [
    "---\n",
    "## Step 0: Load The Data"
   ]
  },
  {
   "cell_type": "code",
   "execution_count": 3,
   "metadata": {
    "collapsed": false
   },
   "outputs": [],
   "source": [
    "# Load pickled data\n",
    "import pickle\n",
    "\n",
    "# TODO: Fill this in based on where you saved the training and testing data\n",
    "\n",
    "training_file = 'train.p'\n",
    "testing_file = 'test.p'\n",
    "\n",
    "with open(training_file, mode='rb') as f:\n",
    "    train = pickle.load(f)\n",
    "with open(testing_file, mode='rb') as f:\n",
    "    test = pickle.load(f)\n",
    "    \n",
    "X_train, y_train = train['features'], train['labels']\n",
    "X_test, y_test = test['features'], test['labels']"
   ]
  },
  {
   "cell_type": "markdown",
   "metadata": {},
   "source": [
    "---\n",
    "\n",
    "## Step 1: Dataset Summary & Exploration\n",
    "\n",
    "The pickled data is a dictionary with 4 key/value pairs:\n",
    "\n",
    "- `'features'` is a 4D array containing raw pixel data of the traffic sign images, (num examples, width, height, channels).\n",
    "- `'labels'` is a 1D array containing the label/class id of the traffic sign. The file `signnames.csv` contains id -> name mappings for each id.\n",
    "- `'sizes'` is a list containing tuples, (width, height) representing the the original width and height the image.\n",
    "- `'coords'` is a list containing tuples, (x1, y1, x2, y2) representing coordinates of a bounding box around the sign in the image. **THESE COORDINATES ASSUME THE ORIGINAL IMAGE. THE PICKLED DATA CONTAINS RESIZED VERSIONS (32 by 32) OF THESE IMAGES**\n",
    "\n",
    "Complete the basic data summary below."
   ]
  },
  {
   "cell_type": "code",
   "execution_count": 4,
   "metadata": {
    "collapsed": false
   },
   "outputs": [
    {
     "name": "stdout",
     "output_type": "stream",
     "text": [
      "Number of training examples = 39209\n",
      "Number of testing examples = 12630\n",
      "Image data shape = (32, 32, 3)\n",
      "Number of classes = 43\n"
     ]
    }
   ],
   "source": [
    "### Replace each question mark with the appropriate value.\n",
    "import numpy as np\n",
    "\n",
    "# TODO: Number of training examples\n",
    "n_train = len(X_train)\n",
    "\n",
    "# TODO: Number of testing examples.\n",
    "n_test = len(X_test)\n",
    "\n",
    "# TODO: What's the shape of an traffic sign image?\n",
    "image_shape = np.shape(X_train[0])\n",
    "\n",
    "# TODO: How many unique classes/labels there are in the dataset.\n",
    "n_classes = len(set(y_train))\n",
    "\n",
    "print(\"Number of training examples =\", n_train)\n",
    "print(\"Number of testing examples =\", n_test)\n",
    "print(\"Image data shape =\", image_shape)\n",
    "print(\"Number of classes =\", n_classes)"
   ]
  },
  {
   "cell_type": "markdown",
   "metadata": {},
   "source": [
    "Visualize the German Traffic Signs Dataset using the pickled file(s). This is open ended, suggestions include: plotting traffic sign images, plotting the count of each sign, etc.\n",
    "\n",
    "The [Matplotlib](http://matplotlib.org/) [examples](http://matplotlib.org/examples/index.html) and [gallery](http://matplotlib.org/gallery.html) pages are a great resource for doing visualizations in Python.\n",
    "\n",
    "**NOTE:** It's recommended you start with something simple first. If you wish to do more, come back to it after you've completed the rest of the sections."
   ]
  },
  {
   "cell_type": "code",
   "execution_count": 5,
   "metadata": {
    "collapsed": true
   },
   "outputs": [],
   "source": [
    "### Data exploration visualization goes here.\n",
    "### Feel free to use as many code cells as needed.\n",
    "import matplotlib.pyplot as plt\n",
    "# Visualizations will be shown in the notebook.\n",
    "%matplotlib inline"
   ]
  },
  {
   "cell_type": "markdown",
   "metadata": {},
   "source": [
    "----\n",
    "\n",
    "## Step 2: Design and Test a Model Architecture\n",
    "\n",
    "Design and implement a deep learning model that learns to recognize traffic signs. Train and test your model on the [German Traffic Sign Dataset](http://benchmark.ini.rub.de/?section=gtsrb&subsection=dataset).\n",
    "\n",
    "There are various aspects to consider when thinking about this problem:\n",
    "\n",
    "- Neural network architecture\n",
    "- Play around preprocessing techniques (normalization, rgb to grayscale, etc)\n",
    "- Number of examples per label (some have more than others).\n",
    "- Generate fake data.\n",
    "\n",
    "Here is an example of a [published baseline model on this problem](http://yann.lecun.com/exdb/publis/pdf/sermanet-ijcnn-11.pdf). It's not required to be familiar with the approach used in the paper but, it's good practice to try to read papers like these.\n",
    "\n",
    "**NOTE:** The LeNet-5 implementation shown in the [classroom](https://classroom.udacity.com/nanodegrees/nd013/parts/fbf77062-5703-404e-b60c-95b78b2f3f9e/modules/6df7ae49-c61c-4bb2-a23e-6527e69209ec/lessons/601ae704-1035-4287-8b11-e2c2716217ad/concepts/d4aca031-508f-4e0b-b493-e7b706120f81) at the end of the CNN lesson is a solid starting point. You'll have to change the number of classes and possibly the preprocessing, but aside from that it's plug and play!"
   ]
  },
  {
   "cell_type": "markdown",
   "metadata": {},
   "source": [
    "### Implementation\n",
    "\n",
    "Use the code cell (or multiple code cells, if necessary) to implement the first step of your project. Once you have completed your implementation and are satisfied with the results, be sure to thoroughly answer the questions that follow."
   ]
  },
  {
   "cell_type": "code",
   "execution_count": 6,
   "metadata": {
    "collapsed": false
   },
   "outputs": [],
   "source": [
    "### Preprocess the data here.\n",
    "### Feel free to use as many code cells as needed.\n",
    "from sklearn.utils import shuffle\n",
    "\n",
    "\n",
    "X_train, y_train = shuffle(X_train, y_train)"
   ]
  },
  {
   "cell_type": "markdown",
   "metadata": {},
   "source": [
    "### Question 1 \n",
    "\n",
    "_Describe how you preprocessed the data. Why did you choose that technique?\n",
    "\n"
   ]
  },
  {
   "cell_type": "markdown",
   "metadata": {},
   "source": [
    "**Answer:**\n",
    "I have used sklearn to split the training data into train and validation tests.\n",
    "I need way to keep test data seperate during training, so not influencing my model during performance evaluvation. However, I still need way to validate during the train. One common approach is to split the traiing data itself to accomdation the validation set. This is exactly what i have followed.\n"
   ]
  },
  {
   "cell_type": "code",
   "execution_count": 39,
   "metadata": {
    "collapsed": false
   },
   "outputs": [
    {
     "name": "stdout",
     "output_type": "stream",
     "text": [
      "25093 6274\n"
     ]
    },
    {
     "data": {
      "text/plain": [
       "<matplotlib.image.AxesImage at 0x7f9f9026e2e8>"
      ]
     },
     "execution_count": 39,
     "metadata": {},
     "output_type": "execute_result"
    },
    {
     "data": {
      "image/png": "[encoded data removed]",
      "text/plain": [
       "<matplotlib.figure.Figure at 0x7f9f8e492198>"
      ]
     },
     "metadata": {},
     "output_type": "display_data"
    }
   ],
   "source": [
    "### Generate additional data (OPTIONAL!)\n",
    "### and split the data into training/validation/testing sets here.\n",
    "### Feel free to use as many code cells as needeed\n",
    "from sklearn.model_selection import train_test_split\n",
    "import random\n",
    "\n",
    "X_train, X_validation, y_train, y_validation = train_test_split(X_train, y_train, test_size=0.2, random_state=42)\n",
    "print(len(X_train), len(X_validation))\n",
    "plt.figure(figsize=(1,1))\n",
    "plt.imshow(X_train[random.randint(0, len(X_train))].squeeze())\n"
   ]
  },
  {
   "cell_type": "markdown",
   "metadata": {},
   "source": [
    "### Question 2\n",
    "\n",
    "_Describe how you set up the training, validation and testing data for your model. **Optional**: If you generated additional data, how did you generate the data? Why did you generate the data? What are the differences in the new dataset (with generated data) from the original dataset?_"
   ]
  },
  {
   "cell_type": "markdown",
   "metadata": {},
   "source": [
    "**Answer:**\n",
    "I have shuffled original training data for model to be independent of ordering of the data. As described above split the train data into train and validation. Validation is used during the training phase to validate the accuracy of the model. And I have used test data after fully satisfied with training to validate the accuracy."
   ]
  },
  {
   "cell_type": "code",
   "execution_count": 8,
   "metadata": {
    "collapsed": false
   },
   "outputs": [],
   "source": [
    "### Define your architecture here.\n",
    "### Feel free to use as many code cells as needed.\n",
    "\n",
    "from tensorflow.contrib.layers import flatten\n",
    "import tensorflow as tf\n",
    "import math\n",
    "\n",
    "\n",
    "\n",
    "def LeNet(x, dropout):    \n",
    "    # Arguments used for tf.truncated_normal, randomly defines variables for the weights and biases for each layer\n",
    "    mu = 0\n",
    "    sigma = 0.1\n",
    "    pkeep = dropout\n",
    "    \n",
    "    layer1_conv_W = tf.Variable(tf.truncated_normal(shape=(5, 5, 3, 6), mean = mu, stddev = sigma))\n",
    "    layer1_conv_b = tf.Variable(tf.zeros(6))\n",
    "    \n",
    "    # TODO: Layer 1: Convolutional. Input = 32x32x3. Output = 28x28x6.\n",
    "    layer1_conv = tf.nn.conv2d(x, layer1_conv_W, strides=[1, 1, 1, 1], padding='VALID') + layer1_conv_b\n",
    "\n",
    "    # TODO: Activation.\n",
    "    layer1_conv = tf.nn.relu(layer1_conv)\n",
    "    layer1_conv = tf.nn.dropout(layer1_conv, pkeep)\n",
    "\n",
    "    # TODO: Pooling. Input = 28x28x6. Output = 14x14x6.\n",
    "    layer1_conv = tf.nn.max_pool(layer1_conv, ksize=[1, 2, 2, 1], strides=[1,2,2,1], padding='VALID')\n",
    "\n",
    "    # TODO: Layer 2: Convolutional. Output = 10x10x16.\n",
    "    \n",
    "    layer2_conv_W = tf.Variable(tf.truncated_normal(shape=(5, 5, 6, 16), mean = mu, stddev = sigma))\n",
    "    layer2_conv_b = tf.Variable(tf.zeros(16))\n",
    "    layer2_conv = tf.nn.conv2d(layer1_conv, layer2_conv_W, strides=[1, 1, 1, 1], padding='VALID') + layer2_conv_b\n",
    "    \n",
    "    # TODO: Activation.\n",
    "    layer2_conv = tf.nn.relu(layer2_conv)\n",
    "    layer2_conv = tf.nn.dropout(layer2_conv, pkeep)\n",
    "\n",
    "    # TODO: Pooling. Input = 10x10x16. Output = 5x5x16.\n",
    "    layer2_conv = tf.nn.max_pool(layer2_conv, ksize=[1, 2, 2, 1], strides=[1,2,2,1], padding='VALID')\n",
    "    \n",
    "\n",
    "    # TODO: Flatten. Input = 5x5x16. Output = 400.\n",
    "    layer2_conv = flatten(layer2_conv)\n",
    "    \n",
    "    # TODO: Layer 3: Fully Connected. Input = 400. Output = 120.\n",
    "    layer3_W = tf.Variable(tf.truncated_normal(shape=(400, 120), mean = mu, stddev = sigma))\n",
    "    layer3_b = tf.Variable(tf.zeros(120))\n",
    "    layer3_fcnn = tf.matmul(layer2_conv, layer3_W ) + layer3_b\n",
    "    \n",
    "    # TODO: Activation.\n",
    "    layer3_fcnn = tf.nn.relu(layer3_fcnn)\n",
    "    layer3_fcnn = tf.nn.dropout(layer3_fcnn, pkeep)\n",
    "\n",
    "    # TODO: Layer 4: Fully Connected. Input = 120. Output = 84.\n",
    "    layer4_W = tf.Variable(tf.truncated_normal(shape=(120, 84), mean = mu, stddev = sigma))\n",
    "    layer4_b = tf.Variable(tf.zeros(84))\n",
    "    layer4_fcnn = tf.matmul(layer3_fcnn, layer4_W ) +  layer4_b \n",
    "    \n",
    "    # TODO: Activation.\n",
    "    layer4_fcnn = tf.nn.relu(layer4_fcnn)\n",
    "    layer4_fcnn = tf.nn.dropout(layer4_fcnn, pkeep)\n",
    "\n",
    "    # TODO: Layer 5: Fully Connected. Input = 84. Output = 10.\n",
    "    layer5_W = tf.Variable(tf.truncated_normal(shape=(84, 43), mean = mu, stddev = sigma))\n",
    "    layer5_b = tf.Variable(tf.zeros(43))\n",
    "    logits = tf.matmul(layer4_fcnn, layer5_W ) + layer5_b \n",
    "    \n",
    "    return logits\n",
    "\n",
    "\n",
    "def LeNet_exp(x, dropout):    \n",
    "    # Arguments used for tf.truncated_normal, randomly defines variables for the weights and biases for each layer\n",
    "    mu = 0\n",
    "    sigma = 0.1\n",
    "    layer_input = x\n",
    "    layer1_conv = None\n",
    "    n = 32\n",
    "    channels = 3\n",
    "    depth = 16\n",
    "    pkeep = dropout\n",
    "    \n",
    "    while n>=5:\n",
    "        \n",
    "        layer1_conv_W = tf.Variable(tf.truncated_normal(shape=(5, 5, channels, depth), mean = mu, stddev = sigma))\n",
    "        layer1_conv_b = tf.Variable(tf.zeros(depth))\n",
    "    \n",
    "        # TODO: Layer 1: Convolutional. Input = 32x32x3. Output = 28x28x6.\n",
    "        layer1_conv = tf.nn.conv2d(layer_input, layer1_conv_W, strides=[1, 1, 1, 1], padding='VALID') + layer1_conv_b\n",
    "\n",
    "        # TODO: Activation.\n",
    "        layer1_conv = tf.nn.relu(layer1_conv)\n",
    "        layer1_conv = tf.nn.dropout(layer1_conv, pkeep)\n",
    "        layer_input = layer1_conv\n",
    "        n = n-5 +1\n",
    "        channels = 16\n",
    "        depth = 16\n",
    "        print(np.shape(layer1_conv))\n",
    "\n",
    "\n",
    "    # TODO: Flatten. Input = 5x5x16. Output = 400.\n",
    "    layer2_conv = flatten(layer1_conv)\n",
    "    n = 256\n",
    "    out = n-32\n",
    "    print(n, out)\n",
    "    \n",
    "    while n > 84:\n",
    "        # TODO: Layer 3: Fully Connected. Input = 400. Output = 120.\n",
    "        layer3_W = tf.Variable(tf.truncated_normal(shape=(n, out), mean = mu, stddev = sigma))\n",
    "        layer3_b = tf.Variable(tf.zeros(out))\n",
    "        layer3_fcnn = tf.matmul(layer2_conv, layer3_W ) + layer3_b\n",
    "    \n",
    "        # TODO: Activation.\n",
    "        layer3_fcnn = tf.nn.relu(layer3_fcnn)\n",
    "        layer3_fcnn = tf.nn.dropout(layer3_fcnn, pkeep)\n",
    "        layer2_conv = layer3_fcnn\n",
    "        n = out\n",
    "        out = n-32\n",
    "        print(n, out)\n",
    "        \n",
    "\n",
    "    # TODO: Layer 5: Fully Connected. Input = 84. Output = 10.\n",
    "    layer5_W = tf.Variable(tf.truncated_normal(shape=(n, 43), mean = mu, stddev = sigma))\n",
    "    layer5_b = tf.Variable(tf.zeros(43))\n",
    "    logits = tf.matmul(layer2_conv, layer5_W ) + layer5_b \n",
    "    \n",
    "    return logits\n",
    "\n"
   ]
  },
  {
   "cell_type": "markdown",
   "metadata": {},
   "source": [
    "### Question 3\n",
    "\n",
    "_What does your final architecture look like? (Type of model, layers, sizes, connectivity, etc.)  For reference on how to build a deep neural network using TensorFlow, see [Deep Neural Network in TensorFlow\n",
    "](https://classroom.udacity.com/nanodegrees/nd013/parts/fbf77062-5703-404e-b60c-95b78b2f3f9e/modules/6df7ae49-c61c-4bb2-a23e-6527e69209ec/lessons/b516a270-8600-4f93-a0a3-20dfeabe5da6/concepts/83a3a2a2-a9bd-4b7b-95b0-eb924ab14432) from the classroom._\n"
   ]
  },
  {
   "cell_type": "markdown",
   "metadata": {},
   "source": [
    "**Answer:**\n",
    "\n",
    "I have followed LeNet() architecture as starting point. I have used total of 5 layes including 3 fully conneccted layers and 2 convolution layers.\n",
    "\n",
    "The input of the moodel accepts 32x32x3 rgb image data and generates logits classifying into 43 different categories.\n",
    "\n",
    "*Layer 1: Convolutional. Input = 32x32x3. Output = 28x28x6. Activation: Relu, Pooling: Maxpool output: 14x14x6*\n",
    "\n",
    "*Layer 2: Convolutional. Input = 14x14x6 Output = 10x10x16. Activation: Relu, Pooling: Maxpool output: 5x5x16*\n",
    "\n",
    "*Layer 3: Fully Connected. Input = 400. Output = 120*\n",
    "\n",
    "*Layer 4: Fully Connected. Input = 120. Output = 84*\n",
    "\n",
    "*Layer 5: Fully Connected. Input = 84. Output = 43*\n",
    "\n",
    "Further improvements:\n",
    "\n",
    "*Added dropout regularization*\n",
    "\n",
    "With above architecture i have validation accuracy about .956.\n",
    "\n",
    "---\n",
    "\n",
    "Next step, I have modified LeNet to LeNet_exp() with extra convolution and fully connected layers removing the max pooling. Added dropout regularization with rate of 4% dropout. I have results varying from .96 to .978 in multiple runs.\n",
    "\n",
    "Convolution Layers size in each layer:\n",
    "layer1: (?, 32, 32, 3)   filter (5,5,3,16)\n",
    "\n",
    "layer2: (?, 28, 28, 16)  filter (5,5,16,16)\n",
    "\n",
    "layer3: (?, 24, 24, 16)  filter (5,5,16,16)\n",
    "\n",
    "layer4: (?, 20, 20, 16)  filter (5,5,16,16)\n",
    "\n",
    "layer5: (?, 16, 16, 16)  filter (5,5,16,16)\n",
    "\n",
    "layer6: (?, 12, 12, 16)  filter (5,5,16,16)\n",
    "\n",
    "layer7: (?, 8, 8, 16)\n",
    "\n",
    "layer8: (?, 4, 4, 16)\n",
    "\n",
    "fully connected layer1: Input: 256 out : 224\n",
    "\n",
    "fully connected layer2: Input: 224 out: 192\n",
    "\n",
    "fully connected layer3: Input: 192 out: 160\n",
    "\n",
    "fully connected layer4: Input: 160 out: 128\n",
    "\n",
    "fully connected layer5: 128 96\n",
    "\n",
    "fully connected layer6: 96 64\n",
    "\n",
    "fully connected layer7: 64 43\n",
    "\n"
   ]
  },
  {
   "cell_type": "code",
   "execution_count": 12,
   "metadata": {
    "collapsed": false
   },
   "outputs": [
    {
     "name": "stdout",
     "output_type": "stream",
     "text": [
      "128 30\n",
      "(?, 28, 28, 16)\n",
      "(?, 24, 24, 16)\n",
      "(?, 20, 20, 16)\n",
      "(?, 16, 16, 16)\n",
      "(?, 12, 12, 16)\n",
      "(?, 8, 8, 16)\n",
      "(?, 4, 4, 16)\n",
      "256 224\n",
      "224 192\n",
      "192 160\n",
      "160 128\n",
      "128 96\n",
      "96 64\n",
      "64 32\n",
      "Training...\n",
      "\n",
      "EPOCH 1 ...\n",
      "Validation Accuracy = 0.762\n",
      "\n",
      "EPOCH 2 ...\n",
      "Validation Accuracy = 0.876\n",
      "\n",
      "EPOCH 3 ...\n",
      "Validation Accuracy = 0.913\n",
      "\n",
      "EPOCH 4 ...\n",
      "Validation Accuracy = 0.913\n",
      "\n",
      "EPOCH 5 ...\n",
      "Validation Accuracy = 0.938\n",
      "\n",
      "EPOCH 6 ...\n",
      "Validation Accuracy = 0.942\n",
      "\n",
      "EPOCH 7 ...\n",
      "Validation Accuracy = 0.953\n",
      "\n",
      "EPOCH 8 ...\n",
      "Validation Accuracy = 0.956\n",
      "\n",
      "EPOCH 9 ...\n",
      "Validation Accuracy = 0.963\n",
      "\n",
      "EPOCH 10 ...\n",
      "Validation Accuracy = 0.954\n",
      "\n",
      "EPOCH 11 ...\n",
      "Validation Accuracy = 0.963\n",
      "\n",
      "EPOCH 12 ...\n",
      "Validation Accuracy = 0.960\n",
      "\n",
      "EPOCH 13 ...\n",
      "Validation Accuracy = 0.949\n",
      "\n",
      "EPOCH 14 ...\n",
      "Validation Accuracy = 0.952\n",
      "\n",
      "EPOCH 15 ...\n",
      "Validation Accuracy = 0.950\n",
      "\n",
      "EPOCH 16 ...\n",
      "Validation Accuracy = 0.959\n",
      "\n",
      "EPOCH 17 ...\n",
      "Validation Accuracy = 0.965\n",
      "\n",
      "EPOCH 18 ...\n",
      "Validation Accuracy = 0.964\n",
      "\n",
      "EPOCH 19 ...\n",
      "Validation Accuracy = 0.967\n",
      "\n",
      "EPOCH 20 ...\n",
      "Validation Accuracy = 0.973\n",
      "\n",
      "EPOCH 21 ...\n",
      "Validation Accuracy = 0.961\n",
      "\n",
      "EPOCH 22 ...\n",
      "Validation Accuracy = 0.973\n",
      "\n",
      "EPOCH 23 ...\n",
      "Validation Accuracy = 0.965\n",
      "\n",
      "EPOCH 24 ...\n",
      "Validation Accuracy = 0.973\n",
      "\n",
      "EPOCH 25 ...\n",
      "Validation Accuracy = 0.972\n",
      "\n",
      "EPOCH 26 ...\n",
      "Validation Accuracy = 0.965\n",
      "\n",
      "EPOCH 27 ...\n",
      "Validation Accuracy = 0.960\n",
      "\n",
      "EPOCH 28 ...\n",
      "Validation Accuracy = 0.974\n",
      "\n",
      "EPOCH 29 ...\n",
      "Validation Accuracy = 0.983\n",
      "\n",
      "EPOCH 30 ...\n",
      "Validation Accuracy = 0.953\n",
      "\n",
      "Model saved\n"
     ]
    }
   ],
   "source": [
    "### Train your model here.\n",
    "### Feel free to use as many code cells as needed.\n",
    "\n",
    "\n",
    "BATCH_SIZE = 128\n",
    "EPOCHS = 30\n",
    "print(BATCH_SIZE, EPOCHS)\n",
    "\n",
    "x = tf.placeholder(tf.float32, (None, 32, 32, 3))\n",
    "y = tf.placeholder(tf.int32, (None))\n",
    "one_hot_y = tf.one_hot(y, 43)\n",
    "dropout = tf.placeholder(tf.float32)\n",
    "# variable learning rate\n",
    "lr = tf.placeholder(tf.float32)\n",
    "\n",
    "rate = 0.001\n",
    "\n",
    " # learning rate decay\n",
    "max_learning_rate = 0.003\n",
    "min_learning_rate = 0.0001\n",
    "decay_speed = 2000.0 # 0.003-0.0001-2000=>0.9826 done in 5000 iterations\n",
    "\n",
    "\n",
    "\n",
    "logits = LeNet_exp(x, dropout=1)\n",
    "cross_entropy = tf.nn.softmax_cross_entropy_with_logits(logits=logits, labels=one_hot_y)\n",
    "loss_operation = tf.reduce_mean(cross_entropy)\n",
    "optimizer = tf.train.AdamOptimizer(learning_rate = lr)\n",
    "training_operation = optimizer.minimize(loss_operation)\n",
    "\n",
    "correct_prediction = tf.equal(tf.argmax(logits, 1), tf.argmax(one_hot_y, 1))\n",
    "accuracy_operation = tf.reduce_mean(tf.cast(correct_prediction, tf.float32))\n",
    "saver = tf.train.Saver()\n",
    "\n",
    "# Initializing the variables\n",
    "init = tf.global_variables_initializer()\n",
    "\n",
    "\n",
    "def evaluate(X_data, y_data):\n",
    "    num_examples = len(X_data)\n",
    "    total_accuracy = 0\n",
    "    sess = tf.get_default_session()\n",
    "    for offset in range(0, num_examples, BATCH_SIZE):\n",
    "        batch_x, batch_y = X_data[offset:offset+BATCH_SIZE], y_data[offset:offset+BATCH_SIZE]\n",
    "        accuracy = sess.run(accuracy_operation, feed_dict={x: batch_x, y: batch_y})\n",
    "        total_accuracy += (accuracy * len(batch_x))\n",
    "    return total_accuracy / num_examples\n",
    "\n",
    "with tf.Session() as sess:\n",
    "    sess.run(init)\n",
    "    num_examples = len(X_train)\n",
    "    \n",
    "    print(\"Training...\")\n",
    "    print()\n",
    "    for i in range(EPOCHS):\n",
    "        X_train, y_train = shuffle(X_train, y_train)\n",
    "        for offset in range(0, num_examples, BATCH_SIZE):\n",
    "            end = offset + BATCH_SIZE\n",
    "            batch_x, batch_y = X_train[offset:end], y_train[offset:end]\n",
    "            learning_rate = min_learning_rate + (max_learning_rate - min_learning_rate) * math.exp(-i/decay_speed)\n",
    "            learning_rate = rate\n",
    "            pkeep = 0.96\n",
    "            sess.run(training_operation, feed_dict={x: batch_x,  y: batch_y, lr: learning_rate, dropout: pkeep})\n",
    "            \n",
    "        validation_accuracy = evaluate(X_validation, y_validation)\n",
    "        print(\"EPOCH {} ...\".format(i+1))\n",
    "        print(\"Validation Accuracy = {:.3f}\".format(validation_accuracy))\n",
    "        print()\n",
    "        \n",
    "    saver.save(sess, './lenet')\n",
    "    print(\"Model saved\")\n"
   ]
  },
  {
   "cell_type": "markdown",
   "metadata": {},
   "source": [
    "### Question 4\n",
    "\n",
    "_How did you train your model? (Type of optimizer, batch size, epochs, hyperparameters, etc.)_\n"
   ]
  },
  {
   "cell_type": "markdown",
   "metadata": {},
   "source": [
    "**Answer:**\n",
    "\n",
    "I have following parameters for testing:\n",
    "\n",
    "EPOCH 30\n",
    "Type Of optimizer: Gradient discent AdamOptmizer with cross entropy\n",
    "For taining images are batched into 128 each, and with constant leaning rate of of 0.001.\n",
    "\n",
    "With above parameters, my model reported  Validation Accuracy ~ 0.978 with various runs.\n",
    "I have experimented with different batch sizes, with decay learning etc. But didn't result in any improved accuracy.\n",
    "\n",
    "\n",
    "\n"
   ]
  },
  {
   "cell_type": "markdown",
   "metadata": {},
   "source": [
    "### Question 5\n",
    "\n",
    "\n",
    "_What approach did you take in coming up with a solution to this problem? It may have been a process of trial and error, in which case, outline the steps you took to get to the final solution and why you chose those steps. Perhaps your solution involved an already well known implementation or architecture. In this case, discuss why you think this is suitable for the current problem._"
   ]
  },
  {
   "cell_type": "code",
   "execution_count": 38,
   "metadata": {
    "collapsed": false
   },
   "outputs": [
    {
     "name": "stdout",
     "output_type": "stream",
     "text": [
      "Model restored from file: ./lenet\n",
      "Test Accuracy = 0.903\n",
      "\n"
     ]
    }
   ],
   "source": [
    "with tf.Session() as sess:\n",
    "    # Initialize variables\n",
    "    sess.run(init)\n",
    "\n",
    "    # Restore model weights from previously saved model\n",
    "    saver.restore(sess, './lenet')\n",
    "    print(\"Model restored from file: %s\" % './lenet')\n",
    "\n",
    "    # Test prediction\n",
    "    test_accuracy = evaluate(X_test, y_test)\n",
    "    print(\"Test Accuracy = {:.3f}\".format(test_accuracy))\n",
    "    print()\n",
    "   "
   ]
  },
  {
   "cell_type": "markdown",
   "metadata": {},
   "source": [
    "**Answer:**\n",
    "\n",
    "1. Since the input data is image  which has spatial significance, so  convolution is the right approach to solve this problem. LeNet provides a starting ground for me to experiment. Results were upto  .95 to .96\n",
    "\n",
    "2. I have tried increasing convolution layers and fully connected layers  Added drop out (4%) for regularization to decrease the overfit of the layers. And removed max pooling improve the spatial data. Results were upto .97.\n",
    "\n",
    "3. I have tried various hyper parameters including decaying learnign rate and didn't get great results.\n",
    "\n",
    "4. Finally as shown as test accuracy is only about .9, compared to validation accuracy ~.976.  \n",
    "\n",
    "\n",
    "I think there is lot of room for improvement. Including trying different archiitecture using transfer learning etc.\n",
    "May be more data might help to solve the problem as i didn't see dramatic improvment with increased layers of neurons."
   ]
  },
  {
   "cell_type": "markdown",
   "metadata": {},
   "source": [
    "---\n",
    "\n",
    "## Step 3: Test a Model on New Images\n",
    "\n",
    "Take several pictures of traffic signs that you find on the web or around you (at least five), and run them through your classifier on your computer to produce example results. The classifier might not recognize some local signs but it could prove interesting nonetheless.\n",
    "\n",
    "You may find `signnames.csv` useful as it contains mappings from the class id (integer) to the actual sign name."
   ]
  },
  {
   "cell_type": "markdown",
   "metadata": {},
   "source": [
    "### Implementation\n",
    "\n",
    "Use the code cell (or multiple code cells, if necessary) to implement the first step of your project. Once you have completed your implementation and are satisfied with the results, be sure to thoroughly answer the questions that follow."
   ]
  },
  {
   "cell_type": "code",
   "execution_count": 13,
   "metadata": {
    "collapsed": false
   },
   "outputs": [],
   "source": [
    "### Load the images and plot them here.\n",
    "### Feel free to use as many code cells as needed.\n",
    "\n",
    "from skimage import io as skimageio\n",
    "from skimage.transform import resize\n",
    "\n",
    "import glob\n",
    "import os\n",
    "\n",
    "def load_images():\n",
    "    images = []\n",
    "    for img in glob.glob(\"mytest/*.jpg\"):\n",
    "        image = skimageio.imread(img)\n",
    "        image = resize(image, (32, 32))\n",
    "        images.append(image)\n",
    "    return images\n",
    "\n",
    "images = load_images()\n",
    "#for image in images:\n",
    "#    plt.figure(figsize=(1,1))\n",
    "#    plt.imshow(image,)\n",
    "#    print(image.shape)\n",
    "\n"
   ]
  },
  {
   "cell_type": "markdown",
   "metadata": {},
   "source": [
    "### Question 6\n",
    "\n",
    "_Choose five candidate images of traffic signs and provide them in the report. Are there any particular qualities of the image(s) that might make classification difficult? It could be helpful to plot the images in the notebook._\n",
    "\n"
   ]
  },
  {
   "cell_type": "markdown",
   "metadata": {},
   "source": [
    "**Answer:**\n",
    "\n",
    "I have chosen, UK traffic signs available online and tested accuracy with following code"
   ]
  },
  {
   "cell_type": "code",
   "execution_count": 36,
   "metadata": {
    "collapsed": false
   },
   "outputs": [
    {
     "name": "stdout",
     "output_type": "stream",
     "text": [
      "Starting 2nd session...\n",
      "Model restored from file: ./lenet\n",
      "SoftMax probabilties...\n",
      "[[-0.72654259 -0.10871381 -0.22882196  1.31663311  0.65110904  1.03309584\n",
      "  -0.94759965  0.65081424  1.94549501  0.69390327 -0.82592463 -1.81877565\n",
      "  -0.16318588  0.18166733 -0.42876714  1.51727974 -1.47661865 -1.54623938\n",
      "  -0.57485104 -1.54877889 -0.09446865 -2.69178987 -2.58217072 -1.51118886\n",
      "  -2.80920887 -0.19654228 -1.57953358 -4.00936365 -1.25783253 -1.39599013\n",
      "  -2.59859061 -1.12616479 -0.13522696 -1.82692683 -1.71418047 -0.65886354\n",
      "  -1.26487088 -1.68988109 -0.95327955 -4.86283255 -0.76770478 -1.87758267\n",
      "  -1.58542025]\n",
      " [-1.43638515 -0.12240312 -0.39660212  2.57785487  0.10359056  1.95593882\n",
      "  -0.97381508  1.08389926  1.48636746  0.10957573 -0.36078775 -1.79036498\n",
      "  -0.53879762 -0.02661851 -1.62466812  1.4358058  -1.4583348  -2.61770582\n",
      "  -1.24786735 -2.44297218 -1.13633132 -3.22343993 -3.75320482 -2.38344073\n",
      "  -3.43109083 -0.4933812  -2.40682745 -5.28833961 -0.85479653 -1.39151752\n",
      "  -2.30236912 -1.94680989  0.12465149 -2.42161131 -1.41288829 -0.94692945\n",
      "  -2.21651697 -2.97011375 -1.42036855 -6.57907152 -0.64156109 -1.85228729\n",
      "  -1.36883402]\n",
      " [-0.67356944  0.05851647 -0.11692193  1.41224647  0.87022358  1.32134306\n",
      "  -0.49409851  1.82351136  3.08903146 -0.25053686 -1.28593695 -1.75493681\n",
      "  -0.03031702  0.06123082 -1.17987573  1.41552258 -1.86691999 -2.50824714\n",
      "  -1.27093697 -2.19059157 -0.49574363 -3.59597039 -3.75772691 -2.08089685\n",
      "  -3.18879414 -0.59744191 -2.14548016 -4.74646759 -0.86482489 -1.39843786\n",
      "  -3.30147576 -2.01936221  0.05810577 -1.85743272 -1.64374506 -0.64372098\n",
      "  -1.37277198 -2.22065067 -1.11667609 -5.59057045 -0.41816109 -1.60762155\n",
      "  -1.66511881]\n",
      " [ 0.16734195  1.19890773 -0.05980775  0.53721201  2.97036934  1.75456583\n",
      "  -1.56022954  0.65294731  1.43658102  0.25836152 -0.02855984 -2.60007524\n",
      "  -0.01057018  0.25900906 -1.0287112   0.89554578 -1.52091324 -1.73167968\n",
      "  -0.79871833 -4.33568907 -1.58175611 -3.98011422 -4.04762888 -3.86384225\n",
      "  -3.56976271 -0.58907568 -1.40674758 -3.08026099 -1.75534201 -2.77479982\n",
      "  -4.56288862 -2.84441304 -0.66637766 -0.43695006 -2.326159   -1.74195766\n",
      "  -1.61114311 -2.59926176 -2.73327994 -3.05829811 -0.96856397 -2.35437346\n",
      "  -1.02785337]\n",
      " [-1.06361437  0.0331313  -0.34507224  2.09473848  0.33528319  1.74160397\n",
      "  -0.40712401  1.28610325  1.6735574  -0.01304922 -0.41945249 -1.61786008\n",
      "  -0.52782965  0.09964719 -1.08194363  1.28305078 -1.18345904 -2.19386959\n",
      "  -1.23871875 -2.33733344 -0.84631371 -2.88739824 -3.36131716 -2.0720737\n",
      "  -3.12988138 -0.34294468 -2.10782361 -4.69468164 -0.95711285 -1.34155953\n",
      "  -2.18890095 -1.63580525 -0.04653966 -1.81945312 -1.18303668 -0.81474596\n",
      "  -1.72791767 -2.29672194 -1.21999013 -5.63062191 -0.3653734  -1.65638828\n",
      "  -0.73704433]]\n",
      "TOPK values....\n",
      "TopKV2(values=array([[ 1.94549501,  1.51727974,  1.31663311],\n",
      "       [ 2.57785487,  1.95593882,  1.48636746],\n",
      "       [ 3.08903146,  1.82351136,  1.41552258],\n",
      "       [ 2.97036934,  1.75456583,  1.43658102],\n",
      "       [ 2.09473848,  1.74160397,  1.6735574 ]], dtype=float32), indices=array([[ 8, 15,  3],\n",
      "       [ 3,  5,  8],\n",
      "       [ 8,  7, 15],\n",
      "       [ 4,  5,  8],\n",
      "       [ 3,  5,  8]], dtype=int32))\n",
      "Max Value....\n",
      "[8 3 8 4 3]\n"
     ]
    },
    {
     "data": {
      "image/png": "[encoded data removed]",
      "text/plain": [
       "<matplotlib.figure.Figure at 0x7f9f6acc3ef0>"
      ]
     },
     "metadata": {},
     "output_type": "display_data"
    },
    {
     "data": {
      "image/png": "[encoded data removed]",
      "text/plain": [
       "<matplotlib.figure.Figure at 0x7f9f61f5b710>"
      ]
     },
     "metadata": {},
     "output_type": "display_data"
    },
    {
     "data": {
      "image/png": "[encoded data removed]",
      "text/plain": [
       "<matplotlib.figure.Figure at 0x7f9f617313c8>"
      ]
     },
     "metadata": {},
     "output_type": "display_data"
    },
    {
     "data": {
      "image/png": "[encoded data removed]",
      "text/plain": [
       "<matplotlib.figure.Figure at 0x7f9f61f6afd0>"
      ]
     },
     "metadata": {},
     "output_type": "display_data"
    },
    {
     "data": {
      "image/png": "[encoded data removed]",
      "text/plain": [
       "<matplotlib.figure.Figure at 0x7f9f8f1b0be0>"
      ]
     },
     "metadata": {},
     "output_type": "display_data"
    }
   ],
   "source": [
    "### Run the predictions here.\n",
    "### Feel free to use as many code cells as needed.\n",
    "\n",
    "# Running a new session\n",
    "print(\"Starting 2nd session...\")\n",
    "\n",
    "logits_max = tf.argmax(logits, 1)\n",
    "\n",
    "with tf.Session() as sess:\n",
    "    # Initialize variables\n",
    "    sess.run(init)\n",
    "\n",
    "    # Restore model weights from previously saved model\n",
    "    saver.restore(sess, './lenet')\n",
    "    print(\"Model restored from file: %s\" % './lenet')\n",
    "\n",
    "    # Test prediction\n",
    "    pkeep = 1\n",
    "    #batch_x = images[:]\n",
    "    #print(np.shape(batch_x))\n",
    "    #print(np.shape(images))\n",
    "    batch_x = shuffle(images)\n",
    "    preds = sess.run(logits, feed_dict={x: batch_x[:5] , dropout: pkeep})\n",
    "    for image in batch_x[:5]:\n",
    "        plt.figure(figsize=(1,1))\n",
    "        plt.imshow(image,)\n",
    "    print('SoftMax probabilties...')\n",
    "    print(preds)\n",
    "    top_kv = sess.run(tf.nn.top_k(tf.constant(preds), k=3))\n",
    "    print('TOPK values....')\n",
    "    print(top_kv)\n",
    "    pred_max = sess.run(logits_max, feed_dict={logits: preds})\n",
    "    print('Max Value....')\n",
    "    print(pred_max)\n",
    "    \n",
    "        \n",
    "        \n",
    "    \n",
    "    "
   ]
  },
  {
   "cell_type": "markdown",
   "metadata": {},
   "source": [
    "### Question 7\n",
    "\n",
    "_Is your model able to perform equally well on captured pictures when compared to testing on the dataset? The simplest way to do this check the accuracy of the predictions. For example, if the model predicted 1 out of 5 signs correctly, it's 20% accurate._\n",
    "\n",
    "_**NOTE:** You could check the accuracy manually by using `signnames.csv` (same directory). This file has a mapping from the class id (0-42) to the corresponding sign name. So, you could take the class id the model outputs, lookup the name in `signnames.csv` and see if it matches the sign from the image._\n"
   ]
  },
  {
   "cell_type": "code",
   "execution_count": 37,
   "metadata": {
    "collapsed": false
   },
   "outputs": [
    {
     "name": "stdout",
     "output_type": "stream",
     "text": [
      "[8 3 8 4 3]\n",
      "   ClassId               SignName\n",
      "8        8  Speed limit (120km/h)\n",
      "3        3   Speed limit (60km/h)\n",
      "8        8  Speed limit (120km/h)\n",
      "4        4   Speed limit (70km/h)\n",
      "3        3   Speed limit (60km/h)\n"
     ]
    }
   ],
   "source": [
    "### Visualize the softmax probabilities here.\n",
    "### Feel free to use as many code cells as needed.\n",
    "import pandas as pd\n",
    "\n",
    "data = pd.read_csv('./signnames.csv', header=0)\n",
    "print(pred_max)\n",
    "print(data.ix[pred_max])"
   ]
  },
  {
   "cell_type": "markdown",
   "metadata": {},
   "source": [
    "**Answer:**\n",
    "\n",
    "Very bad results with accuracy of 0. Not sure why it perfomed so bad.\n"
   ]
  },
  {
   "cell_type": "markdown",
   "metadata": {},
   "source": [
    "### Question 8\n",
    "\n",
    "*Use the model's softmax probabilities to visualize the **certainty** of its predictions, [`tf.nn.top_k`](https://www.tensorflow.org/versions/r0.12/api_docs/python/nn.html#top_k) could prove helpful here. Which predictions is the model certain of? Uncertain? If the model was incorrect in its initial prediction, does the correct prediction appear in the top k? (k should be 5 at most)*\n",
    "\n",
    "`tf.nn.top_k` will return the values and indices (class ids) of the top k predictions. So if k=3, for each sign, it'll return the 3 largest probabilities (out of a possible 43) and the correspoding class ids.\n",
    "\n",
    "Take this numpy array as an example:\n",
    "\n",
    "```\n",
    "# (5, 6) array\n",
    "a = np.array([[ 0.24879643,  0.07032244,  0.12641572,  0.34763842,  0.07893497,\n",
    "         0.12789202],\n",
    "       [ 0.28086119,  0.27569815,  0.08594638,  0.0178669 ,  0.18063401,\n",
    "         0.15899337],\n",
    "       [ 0.26076848,  0.23664738,  0.08020603,  0.07001922,  0.1134371 ,\n",
    "         0.23892179],\n",
    "       [ 0.11943333,  0.29198961,  0.02605103,  0.26234032,  0.1351348 ,\n",
    "         0.16505091],\n",
    "       [ 0.09561176,  0.34396535,  0.0643941 ,  0.16240774,  0.24206137,\n",
    "         0.09155967]])\n",
    "```\n",
    "\n",
    "Running it through `sess.run(tf.nn.top_k(tf.constant(a), k=3))` produces:\n",
    "\n",
    "```\n",
    "TopKV2(values=array([[ 0.34763842,  0.24879643,  0.12789202],\n",
    "       [ 0.28086119,  0.27569815,  0.18063401],\n",
    "       [ 0.26076848,  0.23892179,  0.23664738],\n",
    "       [ 0.29198961,  0.26234032,  0.16505091],\n",
    "       [ 0.34396535,  0.24206137,  0.16240774]]), indices=array([[3, 0, 5],\n",
    "       [0, 1, 4],\n",
    "       [0, 5, 1],\n",
    "       [1, 3, 5],\n",
    "       [1, 4, 3]], dtype=int32))\n",
    "```\n",
    "\n",
    "Looking just at the first row we get `[ 0.34763842,  0.24879643,  0.12789202]`, you can confirm these are the 3 largest probabilities in `a`. You'll also notice `[3, 0, 5]` are the corresponding indices."
   ]
  },
  {
   "cell_type": "markdown",
   "metadata": {},
   "source": [
    "**Answer:**\n",
    "\n",
    "TopKV values are reported above. However, my model seems to be really underperfoming with online images where test accuracy of given data set is .9. I may need help here to understand why?"
   ]
  },
  {
   "cell_type": "markdown",
   "metadata": {},
   "source": [
    "> **Note**: Once you have completed all of the code implementations and successfully answered each question above, you may finalize your work by exporting the iPython Notebook as an HTML document. You can do this by using the menu above and navigating to  \\n\",\n",
    "    \"**File -> Download as -> HTML (.html)**. Include the finished document along with this notebook as your submission."
   ]
  },
  {
   "cell_type": "code",
   "execution_count": null,
   "metadata": {
    "collapsed": true
   },
   "outputs": [],
   "source": []
  }
 ],
 "metadata": {
  "anaconda-cloud": {},
  "kernelspec": {
   "display_name": "Python 3",
   "language": "python",
   "name": "python3"
  },
  "language_info": {
   "codemirror_mode": {
    "name": "ipython",
    "version": 3
   },
   "file_extension": ".py",
   "mimetype": "text/x-python",
   "name": "python",
   "nbconvert_exporter": "python",
   "pygments_lexer": "ipython3",
   "version": "3.5.2"
  }
 },
 "nbformat": 4,
 "nbformat_minor": 1
}
